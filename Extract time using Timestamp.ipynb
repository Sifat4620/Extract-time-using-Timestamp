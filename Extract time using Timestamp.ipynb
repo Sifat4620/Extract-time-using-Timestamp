{
 "cells": [
  {
   "cell_type": "code",
   "execution_count": 2,
   "id": "3d6f2401",
   "metadata": {},
   "outputs": [],
   "source": [
    "import datetime\n",
    "import pandas as pd"
   ]
  },
  {
   "cell_type": "code",
   "execution_count": 3,
   "id": "9425cdff",
   "metadata": {},
   "outputs": [],
   "source": [
    "df = pd.DataFrame({\"TIME_STAMP\":['2017-10-01 15:23:25', '2017-10-09 00:12:58', '2017-10-23 19:55:03',\n",
    "                                 '2017-11-06 19:24:31', '2017-11-26 12:25:49', '2017-11-27 18:11:49',\n",
    "                                 '2017-12-18 08:02:36']})"
   ]
  },
  {
   "cell_type": "code",
   "execution_count": 4,
   "id": "20528679",
   "metadata": {},
   "outputs": [
    {
     "data": {
      "text/html": [
       "<div>\n",
       "<style scoped>\n",
       "    .dataframe tbody tr th:only-of-type {\n",
       "        vertical-align: middle;\n",
       "    }\n",
       "\n",
       "    .dataframe tbody tr th {\n",
       "        vertical-align: top;\n",
       "    }\n",
       "\n",
       "    .dataframe thead th {\n",
       "        text-align: right;\n",
       "    }\n",
       "</style>\n",
       "<table border=\"1\" class=\"dataframe\">\n",
       "  <thead>\n",
       "    <tr style=\"text-align: right;\">\n",
       "      <th></th>\n",
       "      <th>TIME_STAMP</th>\n",
       "    </tr>\n",
       "  </thead>\n",
       "  <tbody>\n",
       "    <tr>\n",
       "      <th>0</th>\n",
       "      <td>2017-10-01 15:23:25</td>\n",
       "    </tr>\n",
       "    <tr>\n",
       "      <th>1</th>\n",
       "      <td>2017-10-09 00:12:58</td>\n",
       "    </tr>\n",
       "    <tr>\n",
       "      <th>2</th>\n",
       "      <td>2017-10-23 19:55:03</td>\n",
       "    </tr>\n",
       "    <tr>\n",
       "      <th>3</th>\n",
       "      <td>2017-11-06 19:24:31</td>\n",
       "    </tr>\n",
       "    <tr>\n",
       "      <th>4</th>\n",
       "      <td>2017-11-26 12:25:49</td>\n",
       "    </tr>\n",
       "    <tr>\n",
       "      <th>5</th>\n",
       "      <td>2017-11-27 18:11:49</td>\n",
       "    </tr>\n",
       "    <tr>\n",
       "      <th>6</th>\n",
       "      <td>2017-12-18 08:02:36</td>\n",
       "    </tr>\n",
       "  </tbody>\n",
       "</table>\n",
       "</div>"
      ],
      "text/plain": [
       "            TIME_STAMP\n",
       "0  2017-10-01 15:23:25\n",
       "1  2017-10-09 00:12:58\n",
       "2  2017-10-23 19:55:03\n",
       "3  2017-11-06 19:24:31\n",
       "4  2017-11-26 12:25:49\n",
       "5  2017-11-27 18:11:49\n",
       "6  2017-12-18 08:02:36"
      ]
     },
     "execution_count": 4,
     "metadata": {},
     "output_type": "execute_result"
    }
   ],
   "source": [
    "df"
   ]
  },
  {
   "cell_type": "markdown",
   "id": "b24bd534",
   "metadata": {},
   "source": [
    "# Expected Output"
   ]
  },
  {
   "cell_type": "markdown",
   "id": "3fb52658",
   "metadata": {},
   "source": [
    "Method 1 - Using .dt.time"
   ]
  },
  {
   "cell_type": "code",
   "execution_count": 6,
   "id": "3efae446",
   "metadata": {},
   "outputs": [
    {
     "name": "stdout",
     "output_type": "stream",
     "text": [
      "<class 'pandas.core.frame.DataFrame'>\n",
      "RangeIndex: 7 entries, 0 to 6\n",
      "Data columns (total 1 columns):\n",
      " #   Column      Non-Null Count  Dtype \n",
      "---  ------      --------------  ----- \n",
      " 0   TIME_STAMP  7 non-null      object\n",
      "dtypes: object(1)\n",
      "memory usage: 184.0+ bytes\n"
     ]
    }
   ],
   "source": [
    "df.info()"
   ]
  },
  {
   "cell_type": "code",
   "execution_count": 7,
   "id": "81512998",
   "metadata": {},
   "outputs": [
    {
     "name": "stdout",
     "output_type": "stream",
     "text": [
      "<class 'pandas.core.frame.DataFrame'>\n",
      "RangeIndex: 7 entries, 0 to 6\n",
      "Data columns (total 1 columns):\n",
      " #   Column      Non-Null Count  Dtype         \n",
      "---  ------      --------------  -----         \n",
      " 0   TIME_STAMP  7 non-null      datetime64[ns]\n",
      "dtypes: datetime64[ns](1)\n",
      "memory usage: 184.0 bytes\n"
     ]
    }
   ],
   "source": [
    "# Convert time_stamp column to datetime object\n",
    "df[\"TIME_STAMP\"] = pd.to_datetime(df[\"TIME_STAMP\"])\n",
    "df.info()"
   ]
  },
  {
   "cell_type": "code",
   "execution_count": 9,
   "id": "468cf605",
   "metadata": {},
   "outputs": [
    {
     "data": {
      "text/plain": [
       "0    15:23:25\n",
       "1    00:12:58\n",
       "2    19:55:03\n",
       "3    19:24:31\n",
       "4    12:25:49\n",
       "5    18:11:49\n",
       "6    08:02:36\n",
       "Name: TIME_STAMP, dtype: object"
      ]
     },
     "execution_count": 9,
     "metadata": {},
     "output_type": "execute_result"
    }
   ],
   "source": [
    "# Code to extract Time\n",
    "df[\"TIME_STAMP\"].dt.time"
   ]
  },
  {
   "cell_type": "markdown",
   "id": "2b44ddf3",
   "metadata": {},
   "source": [
    "### Directive\n",
    " - `%H` : Hour (24-hour clock) as a decimal number [00,23]\n",
    " - `%I` : Hour (12-hour clock) as a decimal number [01,12]\n",
    " - `%M` : Minute as a decimal number [00,59]\n",
    " - `%S` : Second as a decimal number [00,61]\n",
    " \n",
    "[pandas.Period.strftime](https://pandas.pydata.org/pandas-docs/stable/reference/api/pandas.Period.strftime.html) "
   ]
  },
  {
   "cell_type": "markdown",
   "id": "3f797272",
   "metadata": {},
   "source": [
    "## Extraing Date in `%H-%M-%S` Format"
   ]
  },
  {
   "cell_type": "code",
   "execution_count": 11,
   "id": "03e587f9",
   "metadata": {},
   "outputs": [
    {
     "data": {
      "text/plain": [
       "0    15-23-25\n",
       "1    00-12-58\n",
       "2    19-55-03\n",
       "3    19-24-31\n",
       "4    12-25-49\n",
       "5    18-11-49\n",
       "6    08-02-36\n",
       "Name: TIME_STAMP, dtype: object"
      ]
     },
     "execution_count": 11,
     "metadata": {},
     "output_type": "execute_result"
    }
   ],
   "source": [
    "df[\"TIME_STAMP\"].dt.strftime(\"%H-%M-%S\")"
   ]
  },
  {
   "cell_type": "markdown",
   "id": "3e065ab3",
   "metadata": {},
   "source": [
    "## Extract on Minute-Second(`%M-%S`) Information"
   ]
  },
  {
   "cell_type": "code",
   "execution_count": 12,
   "id": "10273030",
   "metadata": {},
   "outputs": [
    {
     "data": {
      "text/plain": [
       "0    23:25\n",
       "1    12:58\n",
       "2    55:03\n",
       "3    24:31\n",
       "4    25:49\n",
       "5    11:49\n",
       "6    02:36\n",
       "Name: TIME_STAMP, dtype: object"
      ]
     },
     "execution_count": 12,
     "metadata": {},
     "output_type": "execute_result"
    }
   ],
   "source": [
    "df[\"TIME_STAMP\"].dt.strftime(\"%M:%S\")"
   ]
  },
  {
   "cell_type": "code",
   "execution_count": null,
   "id": "9d20b040",
   "metadata": {},
   "outputs": [],
   "source": []
  }
 ],
 "metadata": {
  "kernelspec": {
   "display_name": "Python 3 (ipykernel)",
   "language": "python",
   "name": "python3"
  },
  "language_info": {
   "codemirror_mode": {
    "name": "ipython",
    "version": 3
   },
   "file_extension": ".py",
   "mimetype": "text/x-python",
   "name": "python",
   "nbconvert_exporter": "python",
   "pygments_lexer": "ipython3",
   "version": "3.9.13"
  }
 },
 "nbformat": 4,
 "nbformat_minor": 5
}
